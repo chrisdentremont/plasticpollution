{
 "cells": [
  {
   "cell_type": "markdown",
   "metadata": {},
   "source": [
    "**For our project, we wanted to examine the amount of plastic pollution that exists in our oceans, and be able to predict how large of an issue it will be in the future.**\n",
    "\n",
    "**Where did the data come from?**  \n",
    "Our datasets were obtained from [this](https://www.kaggle.com/sohamgade/plastic-datasets/version/1?select=per-capita-plastic-waste-vs-gdp-per-capita.csv) source, and the data itself was obtained from Our World in Data's article on Plastic Pollution found [here](https://ourworldindata.org/plastic-pollution)."
   ]
  },
  {
   "cell_type": "code",
   "execution_count": 93,
   "metadata": {},
   "outputs": [],
   "source": [
    "import numpy as np\n",
    "import pandas as pd\n",
    "from sklearn import linear_model"
   ]
  },
  {
   "cell_type": "code",
   "execution_count": 121,
   "metadata": {},
   "outputs": [],
   "source": [
    "#Importing and creating DataFrames to use for linear regression\n",
    "path1 = 'FinalProject/global-plastics-production.csv'\n",
    "path2 = 'FinalProject/plastic-waste-per-capita.csv'\n",
    "path3 = 'FinalProject/mismanaged-waste-global-total.csv'\n",
    "path4 = 'FinalProject/per-capita-plastic-waste-vs-gdp-per-capita.csv'\n",
    "\n",
    "#CSV representing global plastic production\n",
    "df1 = pd.read_csv(path1)\n",
    "\n",
    "#CSV representing plastic waste per capita\n",
    "df2 = pd.read_csv(path2)\n",
    "\n",
    "#CSV representing global mismanaged waste\n",
    "df3 = pd.read_csv(path3)\n",
    "\n",
    "#CSV representing population for each country\n",
    "df4 = pd.read_csv(path4)\n",
    "df4 = df4[df4['Year'] == 2010]\n",
    "\n",
    "#Create main DataFrame with important features\n",
    "newFrame = [df2[\"Entity\"], df2[\"Code\"], df2[\"Per capita plastic waste (kg/person/day)\"], df3[\"Mismanaged waste (% global total)\"]]\n",
    "newHeaders = [\"Entity\", \"Code\", \"Per capita plastic waste (kg/person/day)\", \"Mismanaged waste (% global total)\"]\n",
    "df5 = pd.concat(newFrame, axis=1, keys=newHeaders)\n",
    "df5.insert(1, 'Global plastics production (million tonnes)', 313000000)\n",
    "df5\n",
    "\n",
    "#Merge the population DataFrame to be included in main DataFrame\n",
    "newDf = pd.merge(df5, df4[['Entity', 'Total population (Gapminder, HYDE & UN)']], on='Entity', how='left')\n",
    "newDf = newDf[pd.notna(newDf['Total population (Gapminder, HYDE & UN)'])]"
   ]
  },
  {
   "cell_type": "code",
   "execution_count": 122,
   "metadata": {},
   "outputs": [
    {
     "name": "stdout",
     "output_type": "stream",
     "text": [
      "[0.56929254]\n"
     ]
    }
   ],
   "source": [
    "#Multiple Linear Regression\n",
    "\n",
    "X = newDf[['Global plastics production (million tonnes)', 'Per capita plastic waste (kg/person/day)', 'Total population (Gapminder, HYDE & UN)']]\n",
    "y = newDf['Mismanaged waste (% global total)']\n",
    "\n",
    "#Fit the above columns to a multiple linear regression model to be able to predict plastic wasted\n",
    "regression = linear_model.LinearRegression()\n",
    "regression.fit(X, y)\n",
    "\n",
    "#Example prediction (Total plastic produced, waste per person, population)\n",
    "#predictedWaste = regression.predict([[313000000, .291, 36471837]])"
   ]
  },
  {
   "cell_type": "code",
   "execution_count": null,
   "metadata": {},
   "outputs": [],
   "source": []
  }
 ],
 "metadata": {
  "kernelspec": {
   "display_name": "Python 3",
   "language": "python",
   "name": "python3"
  },
  "language_info": {
   "codemirror_mode": {
    "name": "ipython",
    "version": 3
   },
   "file_extension": ".py",
   "mimetype": "text/x-python",
   "name": "python",
   "nbconvert_exporter": "python",
   "pygments_lexer": "ipython3",
   "version": "3.6.10"
  }
 },
 "nbformat": 4,
 "nbformat_minor": 2
}
